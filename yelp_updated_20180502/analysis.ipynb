{
 "cells": [
  {
   "cell_type": "markdown",
   "metadata": {},
   "source": [
    "# Logistic regression modeling and interpretation using Yelp reviews"
   ]
  },
  {
   "cell_type": "code",
   "execution_count": 1,
   "metadata": {},
   "outputs": [],
   "source": [
    "%matplotlib inline\n",
    "import os\n",
    "import numpy as np\n",
    "import pandas as pd\n",
    "import matplotlib.pyplot as plt\n",
    "import time"
   ]
  },
  {
   "cell_type": "markdown",
   "metadata": {},
   "source": [
    "# Read data"
   ]
  },
  {
   "cell_type": "code",
   "execution_count": 2,
   "metadata": {},
   "outputs": [],
   "source": [
    "reviews = pd.read_csv('data/reviews.csv')"
   ]
  },
  {
   "cell_type": "markdown",
   "metadata": {},
   "source": [
    "## <span style=\"color:blue\">   Logistic regression Run #1\n",
    "\n",
    "### Feature inportance will be checked with scaled input data"
   ]
  },
  {
   "cell_type": "markdown",
   "metadata": {},
   "source": [
    "# Log some features"
   ]
  },
  {
   "cell_type": "code",
   "execution_count": 3,
   "metadata": {},
   "outputs": [],
   "source": [
    "# reviews.loc[reviews['photos']>20, 'photos'] = 20\n",
    "# reviews.loc[reviews['friends']>50, 'friends'] = 50\n",
    "# reviews.loc[reviews['numSentence']>10, 'numSentence'] = 10\n",
    "# reviews.loc[reviews['numWords']>100, 'numWords'] = 100\n",
    "# reviews.loc[reviews['reviews']>100, 'reviews'] = 100\n",
    "# reviews.loc[reviews['totSentiment']>20, 'totSentiment'] = 20"
   ]
  },
  {
   "cell_type": "code",
   "execution_count": 4,
   "metadata": {},
   "outputs": [],
   "source": [
    "reviews.loc[:,['photos','friends','numSentence','numWords','reviews','totSentiment']] = np.log(reviews.loc[:,['photos','friends','numSentence','numWords','reviews','totSentiment']]+2)"
   ]
  },
  {
   "cell_type": "markdown",
   "metadata": {},
   "source": [
    "# Balance the data"
   ]
  },
  {
   "cell_type": "code",
   "execution_count": 5,
   "metadata": {},
   "outputs": [
    {
     "data": {
      "text/plain": [
       "(54114, 252508)"
      ]
     },
     "execution_count": 5,
     "metadata": {},
     "output_type": "execute_result"
    }
   ],
   "source": [
    "n_not_recomended = (reviews['regular'] == 0).sum()\n",
    "reg_reviews = reviews[reviews['regular'] == 1].sample(n=n_not_recomended, random_state=1)\n",
    "not_reviews = reviews[reviews['regular'] == 0].sample(n=n_not_recomended, random_state=1)\n",
    "\n",
    "balanced_reviews = reg_reviews.append(not_reviews).sample(frac=1.)\n",
    "len(balanced_reviews), len(reviews)"
   ]
  },
  {
   "cell_type": "markdown",
   "metadata": {},
   "source": [
    "# Normalize data"
   ]
  },
  {
   "cell_type": "code",
   "execution_count": 6,
   "metadata": {},
   "outputs": [],
   "source": [
    "from sklearn.preprocessing import MinMaxScaler\n",
    "\n",
    "scaler = MinMaxScaler(feature_range=(0, 1))\n",
    "\n",
    "y = balanced_reviews['regular']\n",
    "X = balanced_reviews.copy()\n",
    "del X['regular']\n",
    "columns = X.columns\n",
    "X = scaler.fit_transform(X)\n",
    "X = pd.DataFrame(X, columns=columns)"
   ]
  },
  {
   "cell_type": "markdown",
   "metadata": {},
   "source": [
    "# Fit a linear model and Analysis on coefficients"
   ]
  },
  {
   "cell_type": "code",
   "execution_count": 7,
   "metadata": {},
   "outputs": [
    {
     "name": "stdout",
     "output_type": "stream",
     "text": [
      "R2 score 0.404111002297\n"
     ]
    },
    {
     "data": {
      "image/png": "[encoded data removed]",
      "text/plain": [
       "<matplotlib.figure.Figure at 0x1e83b880ba8>"
      ]
     },
     "metadata": {},
     "output_type": "display_data"
    }
   ],
   "source": [
    "from sklearn.linear_model import LinearRegression\n",
    "from sklearn.metrics import r2_score\n",
    "\n",
    "clf = LinearRegression()\n",
    "clf.fit(X, y)\n",
    "pd.Series(clf.coef_, index=columns).plot(kind='bar');\n",
    "\n",
    "y_pred = clf.predict(X)\n",
    "print('R2 score', r2_score(y, y_pred))"
   ]
  },
  {
   "cell_type": "markdown",
   "metadata": {},
   "source": [
    "# Same but with LogisticRegression"
   ]
  },
  {
   "cell_type": "code",
   "execution_count": 8,
   "metadata": {},
   "outputs": [
    {
     "name": "stdout",
     "output_type": "stream",
     "text": [
      "R2 score 0.201167904794\n"
     ]
    },
    {
     "data": {
      "image/png": "[encoded data removed]",
      "text/plain": [
       "<matplotlib.figure.Figure at 0x1e83bee95c0>"
      ]
     },
     "metadata": {},
     "output_type": "display_data"
    }
   ],
   "source": [
    "from sklearn.linear_model import LogisticRegression\n",
    "from sklearn.linear_model import LinearRegression\n",
    "\n",
    "clf2 = LogisticRegression()\n",
    "clf2.fit(X, y)\n",
    "pd.Series(clf2.coef_[0], index=columns).plot(kind='bar');\n",
    "\n",
    "y_pred = clf2.predict(X)\n",
    "\n",
    "print('R2 score', r2_score(y, y_pred))"
   ]
  },
  {
   "cell_type": "markdown",
   "metadata": {},
   "source": [
    "# TODO interpret the result"
   ]
  },
  {
   "cell_type": "markdown",
   "metadata": {},
   "source": [
    "## <span style=\"color:blue\"> Interpretation of logistic regression equation\n",
    "    \n",
    "- Each predictor variable will be explored from the min to the max values\n",
    "- Rest of the predictor values will remain as a mean constant value\n"
   ]
  },
  {
   "cell_type": "markdown",
   "metadata": {},
   "source": [
    "### Probability of a review being 'regular' w/ review value change"
   ]
  },
  {
   "cell_type": "code",
   "execution_count": 9,
   "metadata": {},
   "outputs": [
    {
     "data": {
      "text/plain": [
       "avgSentiment        -0.788170\n",
       "friends              0.182516\n",
       "has_photo            0.065100\n",
       "numSentence         -2.585499\n",
       "numWords             0.867750\n",
       "photos               0.016209\n",
       "reviews              1.002484\n",
       "totSentiment         2.346700\n",
       "rating_restaurant    0.323219\n",
       "regularRatio         0.997815\n",
       "dtype: float64"
      ]
     },
     "execution_count": 9,
     "metadata": {},
     "output_type": "execute_result"
    }
   ],
   "source": [
    "bad_features = ['rating', 'extream', 'n_reviews']\n",
    "\n",
    "weights = pd.Series(clf.coef_, index=columns)\n",
    "weights = weights[~weights.index.isin(bad_features)]\n",
    "weights"
   ]
  },
  {
   "cell_type": "code",
   "execution_count": null,
   "metadata": {},
   "outputs": [],
   "source": [
    "'photos','friends','numSentence','numWords','reviews','totSentiment']"
   ]
  },
  {
   "cell_type": "markdown",
   "metadata": {},
   "source": [
    "\n",
    "### Model (regression): \n",
    "\n",
    "regular_hat = -0.788*avgSentiment +0.182*log_friends +0.065*has_photo -2.58*log_numSentence +0.867*log_numWords +0.016*log_photos +1.00*log_reviews +2.34*log_totSentiment +0.323*rating_restaurant +0.997*regularRatio\n",
    "\n",
    "### Model interpretation:\n"
   ]
  },
  {
   "cell_type": "code",
   "execution_count": 18,
   "metadata": {},
   "outputs": [
    {
     "data": {
      "text/plain": [
       "['avgSentiment',\n",
       " 'friends',\n",
       " 'has_photo',\n",
       " 'numSentence',\n",
       " 'numWords',\n",
       " 'photos',\n",
       " 'rating',\n",
       " 'reviews',\n",
       " 'totSentiment',\n",
       " 'extream',\n",
       " 'n_reviews',\n",
       " 'rating_restaurant',\n",
       " 'regularRatio']"
      ]
     },
     "execution_count": 18,
     "metadata": {},
     "output_type": "execute_result"
    }
   ],
   "source": [
    "X2 = balanced_reviews.copy()\n",
    "del X2['regular']\n",
    "X2.shape\n",
    "list(X2)"
   ]
  },
  {
   "cell_type": "code",
   "execution_count": 15,
   "metadata": {},
   "outputs": [],
   "source": [
    "testScale = pd.DataFrame(columns = list(X2) )\n",
    "testScale.loc[0,:] = 0\n",
    "testScale.loc[1,:] = 1\n",
    "testScale.loc[2,:] = 2"
   ]
  },
  {
   "cell_type": "code",
   "execution_count": 17,
   "metadata": {},
   "outputs": [
    {
     "name": "stdout",
     "output_type": "stream",
     "text": [
      "[[  0.00000000e+00   6.93147181e-01   0.00000000e+00   6.93147181e-01\n",
      "    6.93147181e-01   6.93147181e-01   1.00000000e+00   1.09861229e+00\n",
      "    6.93147181e-01   0.00000000e+00   0.00000000e+00  -1.00000000e+00\n",
      "    0.00000000e+00]\n",
      " [  4.00000000e+00   8.51759311e+00   1.00000000e+00   4.63472899e+00\n",
      "    6.90975328e+00   1.11679814e+01   5.00000000e+00   9.42157327e+00\n",
      "    5.31811999e+00   1.00000000e+00   4.82600000e+03   5.00000000e+00\n",
      "    1.00000000e+00]\n",
      " [  8.00000000e+00   1.63420390e+01   2.00000000e+00   8.57631080e+00\n",
      "    1.31263594e+01   2.16428157e+01   9.00000000e+00   1.77445343e+01\n",
      "    9.94309281e+00   2.00000000e+00   9.65200000e+03   1.10000000e+01\n",
      "    2.00000000e+00]]\n"
     ]
    }
   ],
   "source": [
    "X1 = scaler.inverse_transform(testScale)\n",
    "print(X1)"
   ]
  }
 ],
 "metadata": {
  "kernelspec": {
   "display_name": "Python 3",
   "language": "python",
   "name": "python3"
  },
  "language_info": {
   "codemirror_mode": {
    "name": "ipython",
    "version": 3
   },
   "file_extension": ".py",
   "mimetype": "text/x-python",
   "name": "python",
   "nbconvert_exporter": "python",
   "pygments_lexer": "ipython3",
   "version": "3.6.3"
  }
 },
 "nbformat": 4,
 "nbformat_minor": 2
}
