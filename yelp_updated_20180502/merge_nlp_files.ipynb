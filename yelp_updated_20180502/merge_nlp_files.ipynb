{
 "cells": [
  {
   "cell_type": "code",
   "execution_count": null,
   "metadata": {},
   "outputs": [],
   "source": [
    "import numpy as np\n",
    "import pandas as pd\n",
    "\n",
    "regular_reviews01 = pd.read_csv('data/reg_reviews_NLP_01.csv')\n",
    "regular_reviews02 = pd.read_csv('data/reg_reviews_NLP_02.csv')\n",
    "regular_reviews03 = pd.read_csv('data/reg_reviews_NLP_03.csv')\n",
    "regular_reviews = regular_reviews01.append(regular_reviews02, ignore_index = True)\n",
    "regular_reviews = regular_reviews.append(regular_reviews03, ignore_index = True)\n",
    "regular_reviews = regular_reviews.reset_index(drop = True)\n",
    "regular_reviews.to_csv(\"data/reg_reviews_NLP.csv\", encoding='utf-8', index=False )"
   ]
  }
 ],
 "metadata": {
  "kernelspec": {
   "display_name": "Python 3",
   "language": "python",
   "name": "python3"
  },
  "language_info": {
   "codemirror_mode": {
    "name": "ipython",
    "version": 3
   },
   "file_extension": ".py",
   "mimetype": "text/x-python",
   "name": "python",
   "nbconvert_exporter": "python",
   "pygments_lexer": "ipython3",
   "version": "3.6.3"
  }
 },
 "nbformat": 4,
 "nbformat_minor": 2
}
