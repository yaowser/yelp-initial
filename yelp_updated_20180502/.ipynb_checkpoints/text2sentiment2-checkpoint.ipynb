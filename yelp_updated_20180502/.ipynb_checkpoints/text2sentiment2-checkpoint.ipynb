{
 "cells": [
  {
   "cell_type": "markdown",
   "metadata": {},
   "source": [
    "# Text to Sentiment value converter"
   ]
  },
  {
   "cell_type": "markdown",
   "metadata": {},
   "source": [
    "## Read file"
   ]
  },
  {
   "cell_type": "code",
   "execution_count": 1,
   "metadata": {},
   "outputs": [],
   "source": [
    "import os\n",
    "import numpy as np\n",
    "import pandas as pd\n",
    "\n",
    "inputFile = 'reg_reviews_02.csv'        # enter original file name that include review text column\n",
    "outputFile = 'reg_reviews_NLP_02.csv'   # enter oupput file name that will add new sentiment features"
   ]
  },
  {
   "cell_type": "code",
   "execution_count": null,
   "metadata": {},
   "outputs": [],
   "source": []
  },
  {
   "cell_type": "code",
   "execution_count": 2,
   "metadata": {},
   "outputs": [],
   "source": [
    "# Add empty column columns\n",
    "df = pd.read_csv(inputFile)\n",
    "header_list_new = ['numSentence', 'numWords', 'totSentiment', 'avgSentiment', 'Sfreq0','Sfreq1','Sfreq2','Sfreq3','Sfreq4','Sfreq5']\n",
    "for i, name in enumerate(header_list_new):\n",
    "    df[name] = 0"
   ]
  },
  {
   "cell_type": "code",
   "execution_count": 3,
   "metadata": {},
   "outputs": [
    {
     "data": {
      "text/html": [
       "<div>\n",
       "<style scoped>\n",
       "    .dataframe tbody tr th:only-of-type {\n",
       "        vertical-align: middle;\n",
       "    }\n",
       "\n",
       "    .dataframe tbody tr th {\n",
       "        vertical-align: top;\n",
       "    }\n",
       "\n",
       "    .dataframe thead th {\n",
       "        text-align: right;\n",
       "    }\n",
       "</style>\n",
       "<table border=\"1\" class=\"dataframe\">\n",
       "  <thead>\n",
       "    <tr style=\"text-align: right;\">\n",
       "      <th></th>\n",
       "      <th>cool</th>\n",
       "      <th>date</th>\n",
       "      <th>friends</th>\n",
       "      <th>funny</th>\n",
       "      <th>has_photo</th>\n",
       "      <th>localtion</th>\n",
       "      <th>photos</th>\n",
       "      <th>rating</th>\n",
       "      <th>restaurant_id</th>\n",
       "      <th>review</th>\n",
       "      <th>...</th>\n",
       "      <th>numSentence</th>\n",
       "      <th>numWords</th>\n",
       "      <th>totSentiment</th>\n",
       "      <th>avgSentiment</th>\n",
       "      <th>Sfreq0</th>\n",
       "      <th>Sfreq1</th>\n",
       "      <th>Sfreq2</th>\n",
       "      <th>Sfreq3</th>\n",
       "      <th>Sfreq4</th>\n",
       "      <th>Sfreq5</th>\n",
       "    </tr>\n",
       "  </thead>\n",
       "  <tbody>\n",
       "    <tr>\n",
       "      <th>0</th>\n",
       "      <td>0</td>\n",
       "      <td>8/26/2013</td>\n",
       "      <td>84</td>\n",
       "      <td>0</td>\n",
       "      <td>True</td>\n",
       "      <td>Edgewater, NJ</td>\n",
       "      <td>34</td>\n",
       "      <td>4</td>\n",
       "      <td>350</td>\n",
       "      <td>Nearly all the restaurants on Fisherman's Whar...</td>\n",
       "      <td>...</td>\n",
       "      <td>0</td>\n",
       "      <td>0</td>\n",
       "      <td>0</td>\n",
       "      <td>0</td>\n",
       "      <td>0</td>\n",
       "      <td>0</td>\n",
       "      <td>0</td>\n",
       "      <td>0</td>\n",
       "      <td>0</td>\n",
       "      <td>0</td>\n",
       "    </tr>\n",
       "    <tr>\n",
       "      <th>1</th>\n",
       "      <td>0</td>\n",
       "      <td>11/11/2014</td>\n",
       "      <td>281</td>\n",
       "      <td>0</td>\n",
       "      <td>True</td>\n",
       "      <td>Silicon Valley, CA</td>\n",
       "      <td>76</td>\n",
       "      <td>4</td>\n",
       "      <td>350</td>\n",
       "      <td>I've been going here since I was a little kid ...</td>\n",
       "      <td>...</td>\n",
       "      <td>0</td>\n",
       "      <td>0</td>\n",
       "      <td>0</td>\n",
       "      <td>0</td>\n",
       "      <td>0</td>\n",
       "      <td>0</td>\n",
       "      <td>0</td>\n",
       "      <td>0</td>\n",
       "      <td>0</td>\n",
       "      <td>0</td>\n",
       "    </tr>\n",
       "    <tr>\n",
       "      <th>2</th>\n",
       "      <td>4</td>\n",
       "      <td>6/2/2014</td>\n",
       "      <td>84</td>\n",
       "      <td>12</td>\n",
       "      <td>True</td>\n",
       "      <td>Campbell, CA</td>\n",
       "      <td>14</td>\n",
       "      <td>2</td>\n",
       "      <td>350</td>\n",
       "      <td>Um, no. I think as we headed up Fisherman's Wh...</td>\n",
       "      <td>...</td>\n",
       "      <td>0</td>\n",
       "      <td>0</td>\n",
       "      <td>0</td>\n",
       "      <td>0</td>\n",
       "      <td>0</td>\n",
       "      <td>0</td>\n",
       "      <td>0</td>\n",
       "      <td>0</td>\n",
       "      <td>0</td>\n",
       "      <td>0</td>\n",
       "    </tr>\n",
       "    <tr>\n",
       "      <th>3</th>\n",
       "      <td>0</td>\n",
       "      <td>12/28/2015</td>\n",
       "      <td>19</td>\n",
       "      <td>0</td>\n",
       "      <td>True</td>\n",
       "      <td>Rockville, MD</td>\n",
       "      <td>303</td>\n",
       "      <td>3</td>\n",
       "      <td>350</td>\n",
       "      <td>Went here after reading great reviews on yelp ...</td>\n",
       "      <td>...</td>\n",
       "      <td>0</td>\n",
       "      <td>0</td>\n",
       "      <td>0</td>\n",
       "      <td>0</td>\n",
       "      <td>0</td>\n",
       "      <td>0</td>\n",
       "      <td>0</td>\n",
       "      <td>0</td>\n",
       "      <td>0</td>\n",
       "      <td>0</td>\n",
       "    </tr>\n",
       "    <tr>\n",
       "      <th>4</th>\n",
       "      <td>0</td>\n",
       "      <td>5/4/2015</td>\n",
       "      <td>97</td>\n",
       "      <td>0</td>\n",
       "      <td>True</td>\n",
       "      <td>Sacramento, CA</td>\n",
       "      <td>1</td>\n",
       "      <td>5</td>\n",
       "      <td>350</td>\n",
       "      <td>You cannot go wrong with eating here.  Clam Ch...</td>\n",
       "      <td>...</td>\n",
       "      <td>0</td>\n",
       "      <td>0</td>\n",
       "      <td>0</td>\n",
       "      <td>0</td>\n",
       "      <td>0</td>\n",
       "      <td>0</td>\n",
       "      <td>0</td>\n",
       "      <td>0</td>\n",
       "      <td>0</td>\n",
       "      <td>0</td>\n",
       "    </tr>\n",
       "  </tbody>\n",
       "</table>\n",
       "<p>5 rows × 23 columns</p>\n",
       "</div>"
      ],
      "text/plain": [
       "   cool        date  friends  funny  has_photo           localtion  photos  \\\n",
       "0     0   8/26/2013       84      0       True       Edgewater, NJ      34   \n",
       "1     0  11/11/2014      281      0       True  Silicon Valley, CA      76   \n",
       "2     4    6/2/2014       84     12       True        Campbell, CA      14   \n",
       "3     0  12/28/2015       19      0       True       Rockville, MD     303   \n",
       "4     0    5/4/2015       97      0       True      Sacramento, CA       1   \n",
       "\n",
       "   rating  restaurant_id                                             review  \\\n",
       "0       4            350  Nearly all the restaurants on Fisherman's Whar...   \n",
       "1       4            350  I've been going here since I was a little kid ...   \n",
       "2       2            350  Um, no. I think as we headed up Fisherman's Wh...   \n",
       "3       3            350  Went here after reading great reviews on yelp ...   \n",
       "4       5            350  You cannot go wrong with eating here.  Clam Ch...   \n",
       "\n",
       "    ...    numSentence  numWords totSentiment  avgSentiment  Sfreq0  Sfreq1  \\\n",
       "0   ...              0         0            0             0       0       0   \n",
       "1   ...              0         0            0             0       0       0   \n",
       "2   ...              0         0            0             0       0       0   \n",
       "3   ...              0         0            0             0       0       0   \n",
       "4   ...              0         0            0             0       0       0   \n",
       "\n",
       "   Sfreq2  Sfreq3  Sfreq4  Sfreq5  \n",
       "0       0       0       0       0  \n",
       "1       0       0       0       0  \n",
       "2       0       0       0       0  \n",
       "3       0       0       0       0  \n",
       "4       0       0       0       0  \n",
       "\n",
       "[5 rows x 23 columns]"
      ]
     },
     "execution_count": 3,
     "metadata": {},
     "output_type": "execute_result"
    }
   ],
   "source": [
    "df.head()"
   ]
  },
  {
   "cell_type": "code",
   "execution_count": null,
   "metadata": {},
   "outputs": [],
   "source": []
  },
  {
   "cell_type": "markdown",
   "metadata": {},
   "source": [
    "## Requirements to run Stanford Core NLP"
   ]
  },
  {
   "cell_type": "markdown",
   "metadata": {},
   "source": [
    "#### Running Stanford Core NLP server\n",
    "-Download NLP https://stanfordnlp.github.io/CoreNLP/index.html#license, and unzip\n",
    "\n",
    "-Install Java\n",
    "\n",
    "-Run Stanford Core NLP Server by typing below on a command prompt (Anaconda prompt) from the unzipped directory\n",
    "\n",
    "cd Documents\\Python Scripts\\stanford-corenlp-full-2018-01-31\n",
    "\n",
    "java -mx10g -cp \"*\" edu.stanford.nlp.pipeline.StanfordCoreNLPServer -annotators \"tokenize,ssplit,pos,lemma,parse,sentiment\" -port 9000 -timeout 50000\n",
    "\n",
    "!! java heap size can be adjusted by changing the number in the above cmd, -mx10g (this means allocated memory is 10GB)\n",
    "\n",
    "#### Package required\n",
    "Install a wrapper, e.g. stanfordcorenlp https://pypi.python.org/pypi/stanfordcorenlp\n",
    "\n",
    "(base) C:\\Users\\ML\\Documents\\Python Scripts>pip install stanfordcorenlp-3.8.0.1-py2.py3-none-any.whl\n",
    "\n",
    "Reference: https://www.khalidalnajjar.com/setup-use-stanford-corenlp-server-python/"
   ]
  },
  {
   "cell_type": "markdown",
   "metadata": {},
   "source": [
    "## Sentiment analysis function"
   ]
  },
  {
   "cell_type": "code",
   "execution_count": 14,
   "metadata": {},
   "outputs": [],
   "source": [
    "from pycorenlp import StanfordCoreNLP\n",
    "nlp = StanfordCoreNLP('http://localhost:9000')\n",
    "\n",
    "# Function; Output = # sentence, # words, avg.sentimentValue, sentimentHist\n",
    "def stanford_sentiment(text_str):\n",
    "    res = nlp.annotate(text_str,\n",
    "                   properties={\n",
    "                       'annotators': 'sentiment',\n",
    "                       'outputFormat': 'json',\n",
    "                       'timeout': 50000,\n",
    "                   })\n",
    "    numSentence = len(res[\"sentences\"])\n",
    "    numWords = len(text_str.split())\n",
    "    \n",
    "    # data arrangement\n",
    "    arraySentVal = np.zeros(numSentence)\n",
    "\n",
    "    for i, s in enumerate(res[\"sentences\"]):\n",
    "        arraySentVal[i] = int(s[\"sentimentValue\"])\n",
    "\n",
    "    # sum of sentiment values for all sentences in a text/review\n",
    "    totSentiment = sum(arraySentVal)\n",
    "\n",
    "    # avg. of sentiment values for all sentences in a text/review\n",
    "    avgSentiment = np.mean(arraySentVal)\n",
    "\n",
    "    # frequency of sentimentValue in a text/review; {1 : Negative, 2 : Neutral, 3 : Positive}\n",
    "    bins = [0,1,2,3,4,5,6]\n",
    "    freq = np.histogram(arraySentVal, bins)[0]    # getting freq. only w/o bins\n",
    "\n",
    "    return(numSentence, numWords, totSentiment, avgSentiment, freq)   "
   ]
  },
  {
   "cell_type": "markdown",
   "metadata": {},
   "source": [
    "## Text to Sentiment Score conversion"
   ]
  },
  {
   "cell_type": "code",
   "execution_count": 5,
   "metadata": {
    "scrolled": false
   },
   "outputs": [
    {
     "name": "stdout",
     "output_type": "stream",
     "text": [
      "error where i = 3624\n",
      "error where i = 3962\n",
      "error where i = 28396\n",
      "error where i = 31377\n",
      "error where i = 31378\n",
      "error where i = 31379\n",
      "error where i = 31380\n",
      "error where i = 41907\n",
      "error where i = 48645\n",
      "error where i = 49231\n",
      "error where i = 56679\n",
      "error where i = 57989\n",
      "error where i = 62787\n",
      "error where i = 66789\n",
      "Wall time: 12h 21min 19s\n"
     ]
    }
   ],
   "source": [
    "%%time\n",
    "\n",
    "# sentiment score calculation\n",
    "# input = review text w/ removing '\\n' characters in text (which does not affect the sentiment analysis much)\n",
    "# output = number of sentences and words, \n",
    "#          sum of all sentiment score from each sentence in a review\n",
    "#          avg of sentiment scores\n",
    "#          hist.frequency values of sentiment score (0 to 5); {1 : Negative, 2 : Neutral, 3 : Positive}\n",
    "\n",
    "dfLength = len(df)\n",
    "\n",
    "for i in range(dfLength):\n",
    "    try:\n",
    "        numSentence, numWords, totSentiment, avgSentiment, freq = stanford_sentiment(df.review[i].replace('\\n',\" \"))\n",
    "        df.loc[i,'numSentence'] = numSentence\n",
    "        df.loc[i,'numWords'] = numWords\n",
    "        df.loc[i,'totSentiment'] = totSentiment\n",
    "        df.loc[i,'avgSentiment'] = avgSentiment\n",
    "        df.loc[i,'Sfreq0'] = freq[0]\n",
    "        df.loc[i,'Sfreq1'] = freq[1]\n",
    "        df.loc[i,'Sfreq2'] = freq[2]\n",
    "        df.loc[i,'Sfreq3'] = freq[3]\n",
    "        df.loc[i,'Sfreq4'] = freq[4]\n",
    "        df.loc[i,'Sfreq5'] = freq[5]\n",
    "    except:\n",
    "        print(\"error where i =\", i)"
   ]
  },
  {
   "cell_type": "code",
   "execution_count": 6,
   "metadata": {},
   "outputs": [],
   "source": [
    "# df.review[1229]"
   ]
  },
  {
   "cell_type": "code",
   "execution_count": 10,
   "metadata": {},
   "outputs": [
    {
     "data": {
      "text/plain": [
       "cool                                                            10\n",
       "date                                                      6/9/2017\n",
       "friends                                                        280\n",
       "funny                                                           10\n",
       "has_photo                                                     True\n",
       "localtion                                             Torrance, CA\n",
       "photos                                                        3375\n",
       "rating                                                           4\n",
       "restaurant_id                                                  214\n",
       "review           P A S T A\\r\\n\\r\\n- B R E A K D O W N (# of + s...\n",
       "reviews                                                        489\n",
       "useful                                                          10\n",
       "user_name                                               Stephie L.\n",
       "numSentence                                                      0\n",
       "numWords                                                         0\n",
       "totSentiment                                                     0\n",
       "avgSentiment                                                     0\n",
       "Sfreq0                                                           0\n",
       "Sfreq1                                                           0\n",
       "Sfreq2                                                           0\n",
       "Sfreq3                                                           0\n",
       "Sfreq4                                                           0\n",
       "Sfreq5                                                           0\n",
       "Name: 31377, dtype: object"
      ]
     },
     "execution_count": 10,
     "metadata": {},
     "output_type": "execute_result"
    }
   ],
   "source": [
    "df.iloc[31377,:]"
   ]
  },
  {
   "cell_type": "code",
   "execution_count": 11,
   "metadata": {},
   "outputs": [
    {
     "data": {
      "text/plain": [
       "'P A S T A\\r\\n\\r\\n- B R E A K D O W N (# of + stars = rating)\\r\\n* A T M O S P H E R E/C O N C E P T: -1 star\\r\\n* F O O D/P R E S E N T A T I O N: +1 star\\r\\n* P O R T I O N/C O S T: +1 star\\r\\n* S E R V I C E: +1 star\\r\\n* R E V I S I T: +1 star\\r\\n\\r\\nThe atmosphere is a bit unassuming with plain tables and utensils in a basket. Very casual looking with simple menus. I was happy that they served bread and salad with their pasta! && luckily their food was pretty good. The chef served it to us which was a nice touch. Their pasta was cooked perfectly in heaping portions on the plate! We tried the mentaiko and the uni pasta! Both were delicious! It had hints of flavors that were different from other Japanese Italian spots but it worked. It gave it a complex flavor. While my favorite uni pasta is still Cafe Hiro, I would still recommend this spot for good pasta! Delicious!\\r\\n\\r\\nP A R K I N G\\r\\n\\r\\nIt was tough, but since we parked a little further away it was free on Sunday. Most of the spots in Little Tokyo you may have to pay unless you get lucky with a spot.'"
      ]
     },
     "execution_count": 11,
     "metadata": {},
     "output_type": "execute_result"
    }
   ],
   "source": [
    "df.review[31377]"
   ]
  },
  {
   "cell_type": "code",
   "execution_count": 15,
   "metadata": {},
   "outputs": [
    {
     "name": "stdout",
     "output_type": "stream",
     "text": [
      "[14, 246, 29.0, 2.0714285714285716, 1, 4, 2, 7, 0]\n"
     ]
    }
   ],
   "source": [
    "# manually calculated NLP outputs // server was restarted due to memory leak  // missed 4 recording conversion\n",
    "\n",
    "numSentence, numWords, totSentiment, avgSentiment, freq = stanford_sentiment(df.review[31377].replace('\\n',\" \"))\n",
    "out = [numSentence, numWords, totSentiment, avgSentiment, freq[0], freq[1], freq[2], freq[3], freq[4]]\n",
    "print(out)"
   ]
  },
  {
   "cell_type": "code",
   "execution_count": 17,
   "metadata": {},
   "outputs": [
    {
     "data": {
      "text/plain": [
       "\"Pasta heaven!!!! We shared 4 dishes and the were all delicious. We were so surprised how we didn't feel super heavy after our meal. The noodles were the right consistently.\\r\\n\\r\\nMy favorite was the garlic pasta. It was really flavorful and light!  Oh my I'm drooling I need to stop by soon!\\r\\n\\r\\nYou can call and make reservations, it's not a huge restaurant. They also validate parking for the Honda plaza lot.\""
      ]
     },
     "execution_count": 17,
     "metadata": {},
     "output_type": "execute_result"
    }
   ],
   "source": [
    "df.review[31378]"
   ]
  },
  {
   "cell_type": "code",
   "execution_count": 16,
   "metadata": {},
   "outputs": [
    {
     "name": "stdout",
     "output_type": "stream",
     "text": [
      "[9, 72, 16.0, 1.7777777777777777, 0, 6, 0, 2, 1]\n"
     ]
    }
   ],
   "source": [
    "numSentence, numWords, totSentiment, avgSentiment, freq = stanford_sentiment(df.review[31378].replace('\\n',\" \"))\n",
    "out = [numSentence, numWords, totSentiment, avgSentiment, freq[0], freq[1], freq[2], freq[3], freq[4]]\n",
    "print(out)"
   ]
  },
  {
   "cell_type": "code",
   "execution_count": 18,
   "metadata": {},
   "outputs": [
    {
     "name": "stdout",
     "output_type": "stream",
     "text": [
      "[7, 85, 12.0, 1.7142857142857142, 0, 4, 1, 2, 0]\n"
     ]
    }
   ],
   "source": [
    "numSentence, numWords, totSentiment, avgSentiment, freq = stanford_sentiment(df.review[31379].replace('\\n',\" \"))\n",
    "out = [numSentence, numWords, totSentiment, avgSentiment, freq[0], freq[1], freq[2], freq[3], freq[4]]\n",
    "print(out)"
   ]
  },
  {
   "cell_type": "code",
   "execution_count": 19,
   "metadata": {},
   "outputs": [
    {
     "name": "stdout",
     "output_type": "stream",
     "text": [
      "[9, 104, 21.0, 2.3333333333333335, 0, 2, 2, 5, 0]\n"
     ]
    }
   ],
   "source": [
    "numSentence, numWords, totSentiment, avgSentiment, freq = stanford_sentiment(df.review[31380].replace('\\n',\" \"))\n",
    "out = [numSentence, numWords, totSentiment, avgSentiment, freq[0], freq[1], freq[2], freq[3], freq[4]]\n",
    "print(out)"
   ]
  },
  {
   "cell_type": "code",
   "execution_count": 20,
   "metadata": {},
   "outputs": [
    {
     "data": {
      "text/plain": [
       "\"I give this place 3.5 stars. If dining in the evening (which I did), I would recommend sitting outside in the patio. It's quaintly decorated and sets a nice dinner mood, perfect for catching up with friends, family, or even your significant other.\\r\\n\\r\\nOur waitress recommended we order everything family style so that we could try a bit of everything, which ended up being a good idea b/c some of the dishes came out smaller than expected, whereas other dishes were of more appropriate dinner entree size. This place is beer and wine only. Also, the menu changes depending on what is in season and what the chef decides to prepare for the day.\\r\\n\\r\\nThe dishes I thought were note-worthy:\\r\\n1) arugula salad -- very fresh with a wonderful vinaigrette\\r\\n2) the country ham -- sliced thin, served with a creamy cheese spread, cantaloupe melons, and sliced/toasted bread -- more of a dish to share than have on your own as an entree in my opinion\\r\\n3) grilled hanger steak -- cooked appropriately, served with a chimichurri sauce and topped with a fried egg\\r\\n4) baked trout -- served with a tasty creamed corn\\r\\n\\r\\nThe dishes I thought were just ok:\\r\\n1) hamachi crudo -- really small serving if you're planning to eat it on your own -- this dish is definitely meant to share\\r\\n2) braised bacon -- super rich, also meant for sharing, not enough to fill a person up for dinner\\r\\n\\r\\nThe not note-worthy:\\r\\n1) fish and grits -- flavorless in my opinion\\r\\n\\r\\nI was so disappointed they didn't have the soft shell crab burger on the menu that night we dined there. We didn't try the desserts. This is a dog friendly establishment. I probably won't come back, but am glad I tried it once. If I hear on the grapevine that they have the soft shell crab burger on the menu again, I will try to stop by.\""
      ]
     },
     "execution_count": 20,
     "metadata": {},
     "output_type": "execute_result"
    }
   ],
   "source": [
    "df.review[3624]"
   ]
  },
  {
   "cell_type": "markdown",
   "metadata": {},
   "source": [
    "retried the failed NLP analysis and failed again... "
   ]
  },
  {
   "cell_type": "code",
   "execution_count": 21,
   "metadata": {},
   "outputs": [
    {
     "ename": "TypeError",
     "evalue": "string indices must be integers",
     "output_type": "error",
     "traceback": [
      "\u001b[1;31m---------------------------------------------------------------------------\u001b[0m",
      "\u001b[1;31mTypeError\u001b[0m                                 Traceback (most recent call last)",
      "\u001b[1;32m<ipython-input-21-f34557845357>\u001b[0m in \u001b[0;36m<module>\u001b[1;34m()\u001b[0m\n\u001b[1;32m----> 1\u001b[1;33m \u001b[0mnumSentence\u001b[0m\u001b[1;33m,\u001b[0m \u001b[0mnumWords\u001b[0m\u001b[1;33m,\u001b[0m \u001b[0mtotSentiment\u001b[0m\u001b[1;33m,\u001b[0m \u001b[0mavgSentiment\u001b[0m\u001b[1;33m,\u001b[0m \u001b[0mfreq\u001b[0m \u001b[1;33m=\u001b[0m \u001b[0mstanford_sentiment\u001b[0m\u001b[1;33m(\u001b[0m\u001b[0mdf\u001b[0m\u001b[1;33m.\u001b[0m\u001b[0mreview\u001b[0m\u001b[1;33m[\u001b[0m\u001b[1;36m3624\u001b[0m\u001b[1;33m]\u001b[0m\u001b[1;33m.\u001b[0m\u001b[0mreplace\u001b[0m\u001b[1;33m(\u001b[0m\u001b[1;34m'\\n'\u001b[0m\u001b[1;33m,\u001b[0m\u001b[1;34m\" \"\u001b[0m\u001b[1;33m)\u001b[0m\u001b[1;33m)\u001b[0m\u001b[1;33m\u001b[0m\u001b[0m\n\u001b[0m\u001b[0;32m      2\u001b[0m \u001b[0mout\u001b[0m \u001b[1;33m=\u001b[0m \u001b[1;33m[\u001b[0m\u001b[0mnumSentence\u001b[0m\u001b[1;33m,\u001b[0m \u001b[0mnumWords\u001b[0m\u001b[1;33m,\u001b[0m \u001b[0mtotSentiment\u001b[0m\u001b[1;33m,\u001b[0m \u001b[0mavgSentiment\u001b[0m\u001b[1;33m,\u001b[0m \u001b[0mfreq\u001b[0m\u001b[1;33m[\u001b[0m\u001b[1;36m0\u001b[0m\u001b[1;33m]\u001b[0m\u001b[1;33m,\u001b[0m \u001b[0mfreq\u001b[0m\u001b[1;33m[\u001b[0m\u001b[1;36m1\u001b[0m\u001b[1;33m]\u001b[0m\u001b[1;33m,\u001b[0m \u001b[0mfreq\u001b[0m\u001b[1;33m[\u001b[0m\u001b[1;36m2\u001b[0m\u001b[1;33m]\u001b[0m\u001b[1;33m,\u001b[0m \u001b[0mfreq\u001b[0m\u001b[1;33m[\u001b[0m\u001b[1;36m3\u001b[0m\u001b[1;33m]\u001b[0m\u001b[1;33m,\u001b[0m \u001b[0mfreq\u001b[0m\u001b[1;33m[\u001b[0m\u001b[1;36m4\u001b[0m\u001b[1;33m]\u001b[0m\u001b[1;33m]\u001b[0m\u001b[1;33m\u001b[0m\u001b[0m\n\u001b[0;32m      3\u001b[0m \u001b[0mprint\u001b[0m\u001b[1;33m(\u001b[0m\u001b[0mout\u001b[0m\u001b[1;33m)\u001b[0m\u001b[1;33m\u001b[0m\u001b[0m\n",
      "\u001b[1;32m<ipython-input-14-fb550b57e2af>\u001b[0m in \u001b[0;36mstanford_sentiment\u001b[1;34m(text_str)\u001b[0m\n\u001b[0;32m     10\u001b[0m                        \u001b[1;34m'timeout'\u001b[0m\u001b[1;33m:\u001b[0m \u001b[1;36m50000\u001b[0m\u001b[1;33m,\u001b[0m\u001b[1;33m\u001b[0m\u001b[0m\n\u001b[0;32m     11\u001b[0m                    })\n\u001b[1;32m---> 12\u001b[1;33m     \u001b[0mnumSentence\u001b[0m \u001b[1;33m=\u001b[0m \u001b[0mlen\u001b[0m\u001b[1;33m(\u001b[0m\u001b[0mres\u001b[0m\u001b[1;33m[\u001b[0m\u001b[1;34m\"sentences\"\u001b[0m\u001b[1;33m]\u001b[0m\u001b[1;33m)\u001b[0m\u001b[1;33m\u001b[0m\u001b[0m\n\u001b[0m\u001b[0;32m     13\u001b[0m     \u001b[0mnumWords\u001b[0m \u001b[1;33m=\u001b[0m \u001b[0mlen\u001b[0m\u001b[1;33m(\u001b[0m\u001b[0mtext_str\u001b[0m\u001b[1;33m.\u001b[0m\u001b[0msplit\u001b[0m\u001b[1;33m(\u001b[0m\u001b[1;33m)\u001b[0m\u001b[1;33m)\u001b[0m\u001b[1;33m\u001b[0m\u001b[0m\n\u001b[0;32m     14\u001b[0m \u001b[1;33m\u001b[0m\u001b[0m\n",
      "\u001b[1;31mTypeError\u001b[0m: string indices must be integers"
     ]
    }
   ],
   "source": [
    "numSentence, numWords, totSentiment, avgSentiment, freq = stanford_sentiment(df.review[3624].replace('\\n',\" \"))\n",
    "out = [numSentence, numWords, totSentiment, avgSentiment, freq[0], freq[1], freq[2], freq[3], freq[4]]\n",
    "print(out)"
   ]
  },
  {
   "cell_type": "markdown",
   "metadata": {},
   "source": [
    "## Write output into a csv file"
   ]
  },
  {
   "cell_type": "code",
   "execution_count": 8,
   "metadata": {},
   "outputs": [],
   "source": [
    "df.to_csv(outputFile, encoding='utf-8', index=False )"
   ]
  },
  {
   "cell_type": "code",
   "execution_count": null,
   "metadata": {},
   "outputs": [],
   "source": []
  },
  {
   "cell_type": "code",
   "execution_count": null,
   "metadata": {},
   "outputs": [],
   "source": []
  }
 ],
 "metadata": {
  "kernelspec": {
   "display_name": "Python 3",
   "language": "python",
   "name": "python3"
  },
  "language_info": {
   "codemirror_mode": {
    "name": "ipython",
    "version": 3
   },
   "file_extension": ".py",
   "mimetype": "text/x-python",
   "name": "python",
   "nbconvert_exporter": "python",
   "pygments_lexer": "ipython3",
   "version": "3.6.3"
  }
 },
 "nbformat": 4,
 "nbformat_minor": 2
}
