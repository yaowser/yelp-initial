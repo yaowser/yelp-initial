{
 "cells": [
  {
   "cell_type": "markdown",
   "metadata": {},
   "source": [
    "# Text to Sentiment value converter"
   ]
  },
  {
   "cell_type": "markdown",
   "metadata": {},
   "source": [
    "## Read file"
   ]
  },
  {
   "cell_type": "code",
   "execution_count": 1,
   "metadata": {},
   "outputs": [],
   "source": [
    "import os\n",
    "import numpy as np\n",
    "import pandas as pd\n",
    "\n",
    "inputFile = 'reg_reviews_01.csv'        # enter original file name that include review text column\n",
    "outputFile = 'reg_reviews_NLP_01.csv'   # enter oupput file name that will add new sentiment features"
   ]
  },
  {
   "cell_type": "code",
   "execution_count": 2,
   "metadata": {},
   "outputs": [],
   "source": [
    "# Add empty column columns\n",
    "df = pd.read_csv(inputFile)\n",
    "header_list_new = ['numSentence', 'numWords', 'totSentiment', 'avgSentiment', 'Sfreq0','Sfreq1','Sfreq2','Sfreq3','Sfreq4','Sfreq5']\n",
    "for i, name in enumerate(header_list_new):\n",
    "    df[name] = 0"
   ]
  },
  {
   "cell_type": "code",
   "execution_count": 3,
   "metadata": {},
   "outputs": [
    {
     "data": {
      "text/html": [
       "<div>\n",
       "<style scoped>\n",
       "    .dataframe tbody tr th:only-of-type {\n",
       "        vertical-align: middle;\n",
       "    }\n",
       "\n",
       "    .dataframe tbody tr th {\n",
       "        vertical-align: top;\n",
       "    }\n",
       "\n",
       "    .dataframe thead th {\n",
       "        text-align: right;\n",
       "    }\n",
       "</style>\n",
       "<table border=\"1\" class=\"dataframe\">\n",
       "  <thead>\n",
       "    <tr style=\"text-align: right;\">\n",
       "      <th></th>\n",
       "      <th>cool</th>\n",
       "      <th>date</th>\n",
       "      <th>friends</th>\n",
       "      <th>funny</th>\n",
       "      <th>has_photo</th>\n",
       "      <th>localtion</th>\n",
       "      <th>photos</th>\n",
       "      <th>rating</th>\n",
       "      <th>restaurant_id</th>\n",
       "      <th>review</th>\n",
       "      <th>...</th>\n",
       "      <th>numSentence</th>\n",
       "      <th>numWords</th>\n",
       "      <th>totSentiment</th>\n",
       "      <th>avgSentiment</th>\n",
       "      <th>Sfreq0</th>\n",
       "      <th>Sfreq1</th>\n",
       "      <th>Sfreq2</th>\n",
       "      <th>Sfreq3</th>\n",
       "      <th>Sfreq4</th>\n",
       "      <th>Sfreq5</th>\n",
       "    </tr>\n",
       "  </thead>\n",
       "  <tbody>\n",
       "    <tr>\n",
       "      <th>0</th>\n",
       "      <td>0</td>\n",
       "      <td>10/8/2017</td>\n",
       "      <td>0</td>\n",
       "      <td>0</td>\n",
       "      <td>True</td>\n",
       "      <td>Bradenton, FL</td>\n",
       "      <td>2</td>\n",
       "      <td>4</td>\n",
       "      <td>617</td>\n",
       "      <td>Stopped in for lunch on a Friday for the first...</td>\n",
       "      <td>...</td>\n",
       "      <td>0</td>\n",
       "      <td>0</td>\n",
       "      <td>0</td>\n",
       "      <td>0</td>\n",
       "      <td>0</td>\n",
       "      <td>0</td>\n",
       "      <td>0</td>\n",
       "      <td>0</td>\n",
       "      <td>0</td>\n",
       "      <td>0</td>\n",
       "    </tr>\n",
       "    <tr>\n",
       "      <th>1</th>\n",
       "      <td>0</td>\n",
       "      <td>3/30/2018</td>\n",
       "      <td>0</td>\n",
       "      <td>0</td>\n",
       "      <td>True</td>\n",
       "      <td>River Falls, WI</td>\n",
       "      <td>1</td>\n",
       "      <td>5</td>\n",
       "      <td>617</td>\n",
       "      <td>I was looking for a place to eat that made me ...</td>\n",
       "      <td>...</td>\n",
       "      <td>0</td>\n",
       "      <td>0</td>\n",
       "      <td>0</td>\n",
       "      <td>0</td>\n",
       "      <td>0</td>\n",
       "      <td>0</td>\n",
       "      <td>0</td>\n",
       "      <td>0</td>\n",
       "      <td>0</td>\n",
       "      <td>0</td>\n",
       "    </tr>\n",
       "    <tr>\n",
       "      <th>2</th>\n",
       "      <td>0</td>\n",
       "      <td>3/29/2018</td>\n",
       "      <td>1</td>\n",
       "      <td>0</td>\n",
       "      <td>True</td>\n",
       "      <td>Tampa, FL</td>\n",
       "      <td>19</td>\n",
       "      <td>3</td>\n",
       "      <td>617</td>\n",
       "      <td>It was a busy early evening. The hostess worke...</td>\n",
       "      <td>...</td>\n",
       "      <td>0</td>\n",
       "      <td>0</td>\n",
       "      <td>0</td>\n",
       "      <td>0</td>\n",
       "      <td>0</td>\n",
       "      <td>0</td>\n",
       "      <td>0</td>\n",
       "      <td>0</td>\n",
       "      <td>0</td>\n",
       "      <td>0</td>\n",
       "    </tr>\n",
       "    <tr>\n",
       "      <th>3</th>\n",
       "      <td>6</td>\n",
       "      <td>4/15/2017</td>\n",
       "      <td>769</td>\n",
       "      <td>5</td>\n",
       "      <td>True</td>\n",
       "      <td>Las Vegas, NV</td>\n",
       "      <td>4735</td>\n",
       "      <td>3</td>\n",
       "      <td>617</td>\n",
       "      <td>Located right near the terminal 2 cruise port ...</td>\n",
       "      <td>...</td>\n",
       "      <td>0</td>\n",
       "      <td>0</td>\n",
       "      <td>0</td>\n",
       "      <td>0</td>\n",
       "      <td>0</td>\n",
       "      <td>0</td>\n",
       "      <td>0</td>\n",
       "      <td>0</td>\n",
       "      <td>0</td>\n",
       "      <td>0</td>\n",
       "    </tr>\n",
       "    <tr>\n",
       "      <th>4</th>\n",
       "      <td>1</td>\n",
       "      <td>3/11/2017</td>\n",
       "      <td>515</td>\n",
       "      <td>1</td>\n",
       "      <td>True</td>\n",
       "      <td>Tampa, FL</td>\n",
       "      <td>643</td>\n",
       "      <td>2</td>\n",
       "      <td>617</td>\n",
       "      <td>im sorry for the poor pizza Samantha. Im not s...</td>\n",
       "      <td>...</td>\n",
       "      <td>0</td>\n",
       "      <td>0</td>\n",
       "      <td>0</td>\n",
       "      <td>0</td>\n",
       "      <td>0</td>\n",
       "      <td>0</td>\n",
       "      <td>0</td>\n",
       "      <td>0</td>\n",
       "      <td>0</td>\n",
       "      <td>0</td>\n",
       "    </tr>\n",
       "  </tbody>\n",
       "</table>\n",
       "<p>5 rows × 23 columns</p>\n",
       "</div>"
      ],
      "text/plain": [
       "   cool       date  friends  funny  has_photo        localtion  photos  \\\n",
       "0     0  10/8/2017        0      0       True    Bradenton, FL       2   \n",
       "1     0  3/30/2018        0      0       True  River Falls, WI       1   \n",
       "2     0  3/29/2018        1      0       True        Tampa, FL      19   \n",
       "3     6  4/15/2017      769      5       True    Las Vegas, NV    4735   \n",
       "4     1  3/11/2017      515      1       True        Tampa, FL     643   \n",
       "\n",
       "   rating  restaurant_id                                             review  \\\n",
       "0       4            617  Stopped in for lunch on a Friday for the first...   \n",
       "1       5            617  I was looking for a place to eat that made me ...   \n",
       "2       3            617  It was a busy early evening. The hostess worke...   \n",
       "3       3            617  Located right near the terminal 2 cruise port ...   \n",
       "4       2            617  im sorry for the poor pizza Samantha. Im not s...   \n",
       "\n",
       "    ...    numSentence  numWords totSentiment  avgSentiment  Sfreq0  Sfreq1  \\\n",
       "0   ...              0         0            0             0       0       0   \n",
       "1   ...              0         0            0             0       0       0   \n",
       "2   ...              0         0            0             0       0       0   \n",
       "3   ...              0         0            0             0       0       0   \n",
       "4   ...              0         0            0             0       0       0   \n",
       "\n",
       "   Sfreq2  Sfreq3  Sfreq4  Sfreq5  \n",
       "0       0       0       0       0  \n",
       "1       0       0       0       0  \n",
       "2       0       0       0       0  \n",
       "3       0       0       0       0  \n",
       "4       0       0       0       0  \n",
       "\n",
       "[5 rows x 23 columns]"
      ]
     },
     "execution_count": 3,
     "metadata": {},
     "output_type": "execute_result"
    }
   ],
   "source": [
    "df.head()"
   ]
  },
  {
   "cell_type": "code",
   "execution_count": null,
   "metadata": {},
   "outputs": [],
   "source": []
  },
  {
   "cell_type": "markdown",
   "metadata": {},
   "source": [
    "## Requirements to run Stanford Core NLP"
   ]
  },
  {
   "cell_type": "markdown",
   "metadata": {},
   "source": [
    "#### Running Stanford Core NLP server\n",
    "-Download NLP https://stanfordnlp.github.io/CoreNLP/index.html#license, and unzip\n",
    "\n",
    "-Install Java\n",
    "\n",
    "-Run Stanford Core NLP Server by typing below on a command prompt (Anaconda prompt) from the unzipped directory\n",
    "\n",
    "cd Documents\\Python Scripts\\stanford-corenlp-full-2018-01-31\n",
    "\n",
    "java -mx4g -cp \"*\" edu.stanford.nlp.pipeline.StanfordCoreNLPServer -annotators \"tokenize,ssplit,pos,lemma,parse,sentiment\" -port 9000 -timeout 50000\n",
    "\n",
    "\n",
    "#### Package required\n",
    "Install a wrapper, e.g. stanfordcorenlp https://pypi.python.org/pypi/stanfordcorenlp\n",
    "\n",
    "(base) C:\\Users\\ML\\Documents\\Python Scripts>pip install stanfordcorenlp-3.8.0.1-py2.py3-none-any.whl\n",
    "\n",
    "Reference: https://www.khalidalnajjar.com/setup-use-stanford-corenlp-server-python/"
   ]
  },
  {
   "cell_type": "markdown",
   "metadata": {},
   "source": [
    "## Sentiment analysis function"
   ]
  },
  {
   "cell_type": "code",
   "execution_count": 4,
   "metadata": {},
   "outputs": [],
   "source": [
    "from pycorenlp import StanfordCoreNLP\n",
    "nlp = StanfordCoreNLP('http://localhost:9000')\n",
    "\n",
    "# Function; Output = # sentence, # words, avg.sentimentValue, sentimentHist\n",
    "def stanford_sentiment(text_str):\n",
    "    res = nlp.annotate(text_str,\n",
    "                   properties={\n",
    "                       'annotators': 'sentiment',\n",
    "                       'outputFormat': 'json',\n",
    "                       'timeout': 50000,\n",
    "                   })\n",
    "    numSentence = len(res[\"sentences\"])\n",
    "    numWords = len(text_str.split())\n",
    "    \n",
    "    # data arrangement\n",
    "    arraySentVal = np.zeros(numSentence)\n",
    "\n",
    "    for i, s in enumerate(res[\"sentences\"]):\n",
    "        arraySentVal[i] = int(s[\"sentimentValue\"])\n",
    "\n",
    "    # sum of sentiment values for all sentences in a text/review\n",
    "    totSentiment = sum(arraySentVal)\n",
    "\n",
    "    # avg. of sentiment values for all sentences in a text/review\n",
    "    avgSentiment = np.mean(arraySentVal)\n",
    "\n",
    "    # frequency of sentimentValue in a text/review; {1 : Negative, 2 : Neutral, 3 : Positive}\n",
    "    bins = [0,1,2,3,4,5,6]\n",
    "    freq = np.histogram(arraySentVal, bins)[0]    # getting freq. only w/o bins\n",
    "\n",
    "    return(numSentence, numWords, totSentiment, avgSentiment, freq)   "
   ]
  },
  {
   "cell_type": "markdown",
   "metadata": {},
   "source": [
    "## Text to Sentiment Score conversion"
   ]
  },
  {
   "cell_type": "code",
   "execution_count": 5,
   "metadata": {
    "scrolled": false
   },
   "outputs": [
    {
     "name": "stdout",
     "output_type": "stream",
     "text": [
      "error where i = 7425\n",
      "error where i = 8254\n",
      "error where i = 14014\n",
      "error where i = 14852\n",
      "error where i = 18967\n",
      "error where i = 20471\n",
      "error where i = 34744\n",
      "error where i = 41192\n",
      "error where i = 47756\n",
      "error where i = 66044\n",
      "error where i = 66763\n",
      "error where i = 66992\n",
      "error where i = 68939\n",
      "Wall time: 9h 34min 40s\n"
     ]
    }
   ],
   "source": [
    "%%time\n",
    "\n",
    "# sentiment score calculation\n",
    "# input = review text w/ removing '\\n' characters in text (which does not affect the sentiment analysis much)\n",
    "# output = number of sentences and words, \n",
    "#          sum of all sentiment score from each sentence in a review\n",
    "#          avg of sentiment scores\n",
    "#          hist.frequency values of sentiment score (0 to 5); {1 : Negative, 2 : Neutral, 3 : Positive}\n",
    "\n",
    "dfLength = len(df)\n",
    "\n",
    "for i in range(dfLength):\n",
    "    try:\n",
    "        numSentence, numWords, totSentiment, avgSentiment, freq = stanford_sentiment(df.review[i].replace('\\n',\" \"))\n",
    "        df.loc[i,'numSentence'] = numSentence\n",
    "        df.loc[i,'numWords'] = numWords\n",
    "        df.loc[i,'totSentiment'] = totSentiment\n",
    "        df.loc[i,'avgSentiment'] = avgSentiment\n",
    "        df.loc[i,'Sfreq0'] = freq[0]\n",
    "        df.loc[i,'Sfreq1'] = freq[1]\n",
    "        df.loc[i,'Sfreq2'] = freq[2]\n",
    "        df.loc[i,'Sfreq3'] = freq[3]\n",
    "        df.loc[i,'Sfreq4'] = freq[4]\n",
    "        df.loc[i,'Sfreq5'] = freq[5]\n",
    "    except:\n",
    "        print(\"error where i =\", i)"
   ]
  },
  {
   "cell_type": "code",
   "execution_count": 6,
   "metadata": {},
   "outputs": [],
   "source": [
    "# df.review[1229]"
   ]
  },
  {
   "cell_type": "code",
   "execution_count": 7,
   "metadata": {},
   "outputs": [],
   "source": [
    "# df.review[7118]"
   ]
  },
  {
   "cell_type": "code",
   "execution_count": null,
   "metadata": {},
   "outputs": [],
   "source": []
  },
  {
   "cell_type": "code",
   "execution_count": null,
   "metadata": {},
   "outputs": [],
   "source": []
  },
  {
   "cell_type": "markdown",
   "metadata": {},
   "source": [
    "## Write output into a csv file"
   ]
  },
  {
   "cell_type": "code",
   "execution_count": 8,
   "metadata": {},
   "outputs": [],
   "source": [
    "df.to_csv(outputFile, encoding='utf-8', index=False )"
   ]
  },
  {
   "cell_type": "code",
   "execution_count": null,
   "metadata": {},
   "outputs": [],
   "source": []
  },
  {
   "cell_type": "code",
   "execution_count": null,
   "metadata": {},
   "outputs": [],
   "source": []
  }
 ],
 "metadata": {
  "kernelspec": {
   "display_name": "Python 3",
   "language": "python",
   "name": "python3"
  },
  "language_info": {
   "codemirror_mode": {
    "name": "ipython",
    "version": 3
   },
   "file_extension": ".py",
   "mimetype": "text/x-python",
   "name": "python",
   "nbconvert_exporter": "python",
   "pygments_lexer": "ipython3",
   "version": "3.6.3"
  }
 },
 "nbformat": 4,
 "nbformat_minor": 2
}
