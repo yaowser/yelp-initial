{
 "cells": [
  {
   "cell_type": "code",
   "execution_count": 58,
   "metadata": {
    "collapsed": false,
    "scrolled": true
   },
   "outputs": [],
   "source": [
    "%matplotlib inline\n",
    "import numpy as np\n",
    "import pandas as pd\n",
    "import warnings\n",
    "warnings.filterwarnings('ignore')\n",
    "\n",
    "import json\n",
    "from pprint import pprint\n",
    "from pandas.io.json import json_normalize\n",
    "\n",
    "#Sample json\n",
    "with open('data/json/72572.json') as data_file:    \n",
    "    data = json.load(data_file)\n",
    "#pprint(data)"
   ]
  },
  {
   "cell_type": "code",
   "execution_count": 59,
   "metadata": {
    "collapsed": false
   },
   "outputs": [],
   "source": [
    "#level 1 data\n",
    "result = json_normalize(data)\n",
    "result"
   ]
  },
  {
   "cell_type": "code",
   "execution_count": 60,
   "metadata": {
    "collapsed": false,
    "scrolled": true
   },
   "outputs": [],
   "source": [
    "#drop columns\n",
    "result = result.drop(['Reviews','HotelInfo.HotelURL','HotelInfo.ImgURL'], axis=1)\n",
    "result"
   ]
  },
  {
   "cell_type": "code",
   "execution_count": 61,
   "metadata": {
    "collapsed": false
   },
   "outputs": [],
   "source": [
    "#clean html tags\n",
    "#result.at[0,'HotelInfo.Address']"
   ]
  },
  {
   "cell_type": "code",
   "execution_count": 62,
   "metadata": {
    "collapsed": true
   },
   "outputs": [],
   "source": [
    "import re\n",
    "\n",
    "def cleanhtml(raw_html):\n",
    "    cleanr = re.compile('<.*?>')\n",
    "    cleantext = re.sub(cleanr, '', raw_html)\n",
    "    return cleantext"
   ]
  },
  {
   "cell_type": "code",
   "execution_count": 63,
   "metadata": {
    "collapsed": false
   },
   "outputs": [],
   "source": [
    "#html tags cleaned\n",
    "address = re.sub(\"\\s\\s+\", \"\", cleanhtml(result.at[0,'HotelInfo.Address']))\n",
    "#address"
   ]
  },
  {
   "cell_type": "code",
   "execution_count": 64,
   "metadata": {
    "collapsed": false,
    "scrolled": true
   },
   "outputs": [
    {
     "data": {
      "text/plain": [
       "['77 Yesler Way', 'Seattle', 'WA 98104-2530']"
      ]
     },
     "execution_count": 64,
     "metadata": {},
     "output_type": "execute_result"
    }
   ],
   "source": [
    "#make new list of strings if we want to compare hotel address and author address (messed up still but closer)\n",
    "address2 = [x.strip() for x in address.split(',')]\n",
    "address2"
   ]
  },
  {
   "cell_type": "code",
   "execution_count": 65,
   "metadata": {
    "collapsed": false
   },
   "outputs": [],
   "source": [
    "#clean $, *, and range\n",
    "#result.at[0,'HotelInfo.Price']"
   ]
  },
  {
   "cell_type": "code",
   "execution_count": 66,
   "metadata": {
    "collapsed": false
   },
   "outputs": [],
   "source": [
    "#re.sub('[!@#$*]', '', result.at[0,'HotelInfo.Price'])"
   ]
  },
  {
   "cell_type": "code",
   "execution_count": 67,
   "metadata": {
    "collapsed": false
   },
   "outputs": [
    {
     "data": {
      "text/plain": [
       "['117', '189']"
      ]
     },
     "execution_count": 67,
     "metadata": {},
     "output_type": "execute_result"
    }
   ],
   "source": [
    "#one line of code to split low and high prices into 2 columns\n",
    "price = [x.strip() for x in re.sub('[!@#$*]', '', result.at[0,'HotelInfo.Price']).split('-')]\n",
    "price"
   ]
  },
  {
   "cell_type": "code",
   "execution_count": 68,
   "metadata": {
    "collapsed": false
   },
   "outputs": [],
   "source": [
    "#create new columns for cleaned data\n",
    "add = pd.DataFrame(np.column_stack([price[0], price[1], address2[0], address2[1], address2[2]]), \n",
    "             columns=['HotelInfo.Price.Low', 'HotelInfo.Price.High', 'HotelInfo.Address.Street',\n",
    "                      'HotelInfo.Address.City', 'HotelInfo.Address.State'])\n",
    "add"
   ]
  },
  {
   "cell_type": "code",
   "execution_count": 69,
   "metadata": {
    "collapsed": false
   },
   "outputs": [],
   "source": [
    "#drop old columns, concat\n",
    "result = pd.concat([add, result], axis=1)\n",
    "result = result.drop(['HotelInfo.Address','HotelInfo.Price'], axis=1)\n",
    "result"
   ]
  },
  {
   "cell_type": "code",
   "execution_count": 70,
   "metadata": {
    "collapsed": false
   },
   "outputs": [],
   "source": [
    "#second level data\n",
    "result2 = json_normalize(data[\"Reviews\"])\n",
    "result2"
   ]
  },
  {
   "cell_type": "code",
   "execution_count": 71,
   "metadata": {
    "collapsed": false
   },
   "outputs": [],
   "source": [
    "#len(result2.index)"
   ]
  },
  {
   "cell_type": "code",
   "execution_count": 72,
   "metadata": {
    "collapsed": false
   },
   "outputs": [],
   "source": [
    "#multiply 1st level data to 2nd level data\n",
    "result = pd.concat([result]*len(result2.index))\n",
    "result.index = range(len(result2.index))\n",
    "result"
   ]
  },
  {
   "cell_type": "code",
   "execution_count": 73,
   "metadata": {
    "collapsed": false,
    "scrolled": false
   },
   "outputs": [],
   "source": [
    "#concat\n",
    "result3 = pd.concat([result, result2], axis=1)\n",
    "result3"
   ]
  },
  {
   "cell_type": "code",
   "execution_count": 74,
   "metadata": {
    "collapsed": false
   },
   "outputs": [],
   "source": [
    "#no comments, merge by ReviewID\n",
    "result4 = result3.drop(['Content','Title'], axis=1)\n",
    "result4"
   ]
  },
  {
   "cell_type": "code",
   "execution_count": 75,
   "metadata": {
    "collapsed": false
   },
   "outputs": [],
   "source": [
    "#len(result4.ReviewID.unique())"
   ]
  },
  {
   "cell_type": "code",
   "execution_count": 76,
   "metadata": {
    "collapsed": false
   },
   "outputs": [],
   "source": [
    "#NLP comments, merge by ReviewID\n",
    "result5 = result3[['ReviewID','Title','Content']]\n",
    "result5"
   ]
  }
 ],
 "metadata": {
  "kernelspec": {
   "display_name": "Python 3",
   "language": "python",
   "name": "python3"
  },
  "language_info": {
   "codemirror_mode": {
    "name": "ipython",
    "version": 3
   },
   "file_extension": ".py",
   "mimetype": "text/x-python",
   "name": "python",
   "nbconvert_exporter": "python",
   "pygments_lexer": "ipython3",
   "version": "3.6.3"
  }
 },
 "nbformat": 4,
 "nbformat_minor": 2
}
