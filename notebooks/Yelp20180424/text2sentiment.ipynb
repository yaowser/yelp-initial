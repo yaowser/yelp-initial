{
 "cells": [
  {
   "cell_type": "markdown",
   "metadata": {},
   "source": [
    "# Text to Sentiment value converter"
   ]
  },
  {
   "cell_type": "markdown",
   "metadata": {},
   "source": [
    "## Read file"
   ]
  },
  {
   "cell_type": "code",
   "execution_count": 1,
   "metadata": {},
   "outputs": [],
   "source": [
    "import os\n",
    "import numpy as np\n",
    "import pandas as pd\n",
    "\n",
    "inputFile = 'not_reviews.csv'        # enter original file name that include review text column\n",
    "outputFile = 'not_reviews_NLP.csv'   # enter oupput file name that will add new sentiment features"
   ]
  },
  {
   "cell_type": "code",
   "execution_count": 4,
   "metadata": {},
   "outputs": [],
   "source": [
    "# Add empty column columns\n",
    "df = pd.read_csv(inputFile)\n",
    "header_list_new = ['numSentence', 'numWords', 'totSentiment', 'avgSentiment', 'Sfreq0','Sfreq1','Sfreq2','Sfreq3','Sfreq4','Sfreq5']\n",
    "for i, name in enumerate(header_list_new):\n",
    "    df[name] = 0"
   ]
  },
  {
   "cell_type": "code",
   "execution_count": 3,
   "metadata": {},
   "outputs": [
    {
     "data": {
      "text/html": [
       "<div>\n",
       "<style scoped>\n",
       "    .dataframe tbody tr th:only-of-type {\n",
       "        vertical-align: middle;\n",
       "    }\n",
       "\n",
       "    .dataframe tbody tr th {\n",
       "        vertical-align: top;\n",
       "    }\n",
       "\n",
       "    .dataframe thead th {\n",
       "        text-align: right;\n",
       "    }\n",
       "</style>\n",
       "<table border=\"1\" class=\"dataframe\">\n",
       "  <thead>\n",
       "    <tr style=\"text-align: right;\">\n",
       "      <th></th>\n",
       "      <th>date</th>\n",
       "      <th>friends</th>\n",
       "      <th>has_photo</th>\n",
       "      <th>localtion</th>\n",
       "      <th>photos</th>\n",
       "      <th>rating</th>\n",
       "      <th>restaurant_id</th>\n",
       "      <th>review</th>\n",
       "      <th>reviews</th>\n",
       "      <th>user_name</th>\n",
       "      <th>numSentence</th>\n",
       "      <th>numWords</th>\n",
       "      <th>totSentiment</th>\n",
       "      <th>avgSentiment</th>\n",
       "      <th>Sfreq0</th>\n",
       "      <th>Sfreq1</th>\n",
       "      <th>Sfreq2</th>\n",
       "      <th>Sfreq3</th>\n",
       "      <th>Sfreq4</th>\n",
       "      <th>Sfreq5</th>\n",
       "    </tr>\n",
       "  </thead>\n",
       "  <tbody>\n",
       "    <tr>\n",
       "      <th>0</th>\n",
       "      <td>3/16/2018</td>\n",
       "      <td>0</td>\n",
       "      <td>False</td>\n",
       "      <td>Frankfort, IL</td>\n",
       "      <td>0</td>\n",
       "      <td>1</td>\n",
       "      <td>617</td>\n",
       "      <td>Well, if u just can't get enough of that ride ...</td>\n",
       "      <td>3</td>\n",
       "      <td>James E.</td>\n",
       "      <td>0</td>\n",
       "      <td>0</td>\n",
       "      <td>0</td>\n",
       "      <td>0</td>\n",
       "      <td>0</td>\n",
       "      <td>0</td>\n",
       "      <td>0</td>\n",
       "      <td>0</td>\n",
       "      <td>0</td>\n",
       "      <td>0</td>\n",
       "    </tr>\n",
       "    <tr>\n",
       "      <th>1</th>\n",
       "      <td>8/6/2017</td>\n",
       "      <td>0</td>\n",
       "      <td>False</td>\n",
       "      <td>Wesley Chapel, FL</td>\n",
       "      <td>0</td>\n",
       "      <td>1</td>\n",
       "      <td>617</td>\n",
       "      <td>Ordered the Canarsie Chicken as a take-away. A...</td>\n",
       "      <td>1</td>\n",
       "      <td>Colin E.</td>\n",
       "      <td>0</td>\n",
       "      <td>0</td>\n",
       "      <td>0</td>\n",
       "      <td>0</td>\n",
       "      <td>0</td>\n",
       "      <td>0</td>\n",
       "      <td>0</td>\n",
       "      <td>0</td>\n",
       "      <td>0</td>\n",
       "      <td>0</td>\n",
       "    </tr>\n",
       "    <tr>\n",
       "      <th>2</th>\n",
       "      <td>11/11/2016</td>\n",
       "      <td>0</td>\n",
       "      <td>False</td>\n",
       "      <td>Lakeland, FL</td>\n",
       "      <td>0</td>\n",
       "      <td>1</td>\n",
       "      <td>617</td>\n",
       "      <td>am sadden by my new pizza spot .ii am sad beca...</td>\n",
       "      <td>2</td>\n",
       "      <td>Yolanda B.</td>\n",
       "      <td>0</td>\n",
       "      <td>0</td>\n",
       "      <td>0</td>\n",
       "      <td>0</td>\n",
       "      <td>0</td>\n",
       "      <td>0</td>\n",
       "      <td>0</td>\n",
       "      <td>0</td>\n",
       "      <td>0</td>\n",
       "      <td>0</td>\n",
       "    </tr>\n",
       "    <tr>\n",
       "      <th>3</th>\n",
       "      <td>8/21/2016</td>\n",
       "      <td>24</td>\n",
       "      <td>True</td>\n",
       "      <td>Clearwater, FL</td>\n",
       "      <td>0</td>\n",
       "      <td>1</td>\n",
       "      <td>617</td>\n",
       "      <td>Never tried the pizza, the staff was overwhelm...</td>\n",
       "      <td>1</td>\n",
       "      <td>Luke B.</td>\n",
       "      <td>0</td>\n",
       "      <td>0</td>\n",
       "      <td>0</td>\n",
       "      <td>0</td>\n",
       "      <td>0</td>\n",
       "      <td>0</td>\n",
       "      <td>0</td>\n",
       "      <td>0</td>\n",
       "      <td>0</td>\n",
       "      <td>0</td>\n",
       "    </tr>\n",
       "    <tr>\n",
       "      <th>4</th>\n",
       "      <td>7/1/2016</td>\n",
       "      <td>1</td>\n",
       "      <td>True</td>\n",
       "      <td>Naperville, IL</td>\n",
       "      <td>6</td>\n",
       "      <td>1</td>\n",
       "      <td>617</td>\n",
       "      <td>We arrived several hours after they opened and...</td>\n",
       "      <td>5</td>\n",
       "      <td>Heavenly K.</td>\n",
       "      <td>0</td>\n",
       "      <td>0</td>\n",
       "      <td>0</td>\n",
       "      <td>0</td>\n",
       "      <td>0</td>\n",
       "      <td>0</td>\n",
       "      <td>0</td>\n",
       "      <td>0</td>\n",
       "      <td>0</td>\n",
       "      <td>0</td>\n",
       "    </tr>\n",
       "  </tbody>\n",
       "</table>\n",
       "</div>"
      ],
      "text/plain": [
       "         date  friends  has_photo          localtion  photos  rating  \\\n",
       "0   3/16/2018        0      False      Frankfort, IL       0       1   \n",
       "1    8/6/2017        0      False  Wesley Chapel, FL       0       1   \n",
       "2  11/11/2016        0      False       Lakeland, FL       0       1   \n",
       "3   8/21/2016       24       True     Clearwater, FL       0       1   \n",
       "4    7/1/2016        1       True     Naperville, IL       6       1   \n",
       "\n",
       "   restaurant_id                                             review  reviews  \\\n",
       "0            617  Well, if u just can't get enough of that ride ...        3   \n",
       "1            617  Ordered the Canarsie Chicken as a take-away. A...        1   \n",
       "2            617  am sadden by my new pizza spot .ii am sad beca...        2   \n",
       "3            617  Never tried the pizza, the staff was overwhelm...        1   \n",
       "4            617  We arrived several hours after they opened and...        5   \n",
       "\n",
       "     user_name  numSentence  numWords  totSentiment  avgSentiment  Sfreq0  \\\n",
       "0     James E.            0         0             0             0       0   \n",
       "1     Colin E.            0         0             0             0       0   \n",
       "2   Yolanda B.            0         0             0             0       0   \n",
       "3      Luke B.            0         0             0             0       0   \n",
       "4  Heavenly K.            0         0             0             0       0   \n",
       "\n",
       "   Sfreq1  Sfreq2  Sfreq3  Sfreq4  Sfreq5  \n",
       "0       0       0       0       0       0  \n",
       "1       0       0       0       0       0  \n",
       "2       0       0       0       0       0  \n",
       "3       0       0       0       0       0  \n",
       "4       0       0       0       0       0  "
      ]
     },
     "execution_count": 3,
     "metadata": {},
     "output_type": "execute_result"
    }
   ],
   "source": [
    "df.head()"
   ]
  },
  {
   "cell_type": "code",
   "execution_count": null,
   "metadata": {},
   "outputs": [],
   "source": []
  },
  {
   "cell_type": "markdown",
   "metadata": {},
   "source": [
    "## Requirements to run Stanford Core NLP"
   ]
  },
  {
   "cell_type": "markdown",
   "metadata": {},
   "source": [
    "#### Running Stanford Core NLP server\n",
    "-Download NLP https://stanfordnlp.github.io/CoreNLP/index.html#license, and unzip\n",
    "-Install Java\n",
    "\n",
    "-Run Stanford Core NLP Server by typing below on a command prompt (Anaconda prompt) from the unzipped directory\n",
    "\n",
    "cd Documents\\Python Scripts\\stanford-corenlp-full-2018-01-31\n",
    "\n",
    "java -mx4g -cp \"*\" edu.stanford.nlp.pipeline.StanfordCoreNLPServer -annotators \"tokenize,ssplit,pos,lemma,parse,sentiment\" -port 9000 -timeout 30000\n",
    "\n",
    "\n",
    "#### Package required\n",
    "Install a wrapper, e.g. stanfordcorenlp https://pypi.python.org/pypi/stanfordcorenlp\n",
    "\n",
    "(base) C:\\Users\\ML\\Documents\\Python Scripts>pip install stanfordcorenlp-3.8.0.1-py2.py3-none-any.whl\n",
    "\n",
    "Reference: https://www.khalidalnajjar.com/setup-use-stanford-corenlp-server-python/"
   ]
  },
  {
   "cell_type": "markdown",
   "metadata": {},
   "source": [
    "## Sentiment analysis function"
   ]
  },
  {
   "cell_type": "code",
   "execution_count": 4,
   "metadata": {},
   "outputs": [],
   "source": [
    "from pycorenlp import StanfordCoreNLP\n",
    "nlp = StanfordCoreNLP('http://localhost:9000')\n",
    "\n",
    "# Function; Output = # sentence, # words, avg.sentimentValue, sentimentHist\n",
    "def stanford_sentiment(text_str):\n",
    "    res = nlp.annotate(text_str,\n",
    "                   properties={\n",
    "                       'annotators': 'sentiment',\n",
    "                       'outputFormat': 'json',\n",
    "                       'timeout': 30000,\n",
    "                   })\n",
    "    numSentence = len(res[\"sentences\"])\n",
    "    numWords = len(text_str.split())\n",
    "    \n",
    "    # data arrangement\n",
    "    arraySentVal = np.zeros(numSentence)\n",
    "\n",
    "    for i, s in enumerate(res[\"sentences\"]):\n",
    "        arraySentVal[i] = int(s[\"sentimentValue\"])\n",
    "\n",
    "    # sum of sentiment values for all sentences in a text/review\n",
    "    totSentiment = sum(arraySentVal)\n",
    "\n",
    "    # avg. of sentiment values for all sentences in a text/review\n",
    "    avgSentiment = np.mean(arraySentVal)\n",
    "\n",
    "    # frequency of sentimentValue in a text/review; {1 : Negative, 2 : Neutral, 3 : Positive}\n",
    "    bins = [0,1,2,3,4,5,6]\n",
    "    freq = np.histogram(arraySentVal, bins)[0]    # getting freq. only w/o bins\n",
    "\n",
    "    return(numSentence, numWords, totSentiment, avgSentiment, freq)   "
   ]
  },
  {
   "cell_type": "markdown",
   "metadata": {},
   "source": [
    "## Text to Sentiment Score conversion"
   ]
  },
  {
   "cell_type": "code",
   "execution_count": 5,
   "metadata": {},
   "outputs": [
    {
     "name": "stdout",
     "output_type": "stream",
     "text": [
      "error where i = 9623\n",
      "error where i = 10001\n",
      "error where i = 15685\n",
      "error where i = 16756\n",
      "error where i = 23807\n",
      "error where i = 25526\n",
      "error where i = 25636\n",
      "error where i = 26865\n",
      "Wall time: 2h 6min 11s\n"
     ]
    }
   ],
   "source": [
    "%%time\n",
    "\n",
    "# sentiment score calculation\n",
    "# input = review text w/ removing '\\n' characters in text (which does not affect the sentiment analysis much)\n",
    "# output = number of sentences and words, \n",
    "#          sum of all sentiment score from each sentence in a review\n",
    "#          avg of sentiment scores\n",
    "#          hist.frequency values of sentiment score (0 to 5); {1 : Negative, 2 : Neutral, 3 : Positive}\n",
    "\n",
    "dfLength = len(df)\n",
    "\n",
    "for i in range(dfLength):\n",
    "    try:\n",
    "        numSentence, numWords, totSentiment, avgSentiment, freq = stanford_sentiment(df.review[i].replace('\\n',\" \"))\n",
    "        df.loc[i,'numSentence'] = numSentence\n",
    "        df.loc[i,'numWords'] = numWords\n",
    "        df.loc[i,'totSentiment'] = totSentiment\n",
    "        df.loc[i,'avgSentiment'] = avgSentiment\n",
    "        df.loc[i,'Sfreq0'] = freq[0]\n",
    "        df.loc[i,'Sfreq1'] = freq[1]\n",
    "        df.loc[i,'Sfreq2'] = freq[2]\n",
    "        df.loc[i,'Sfreq3'] = freq[3]\n",
    "        df.loc[i,'Sfreq4'] = freq[4]\n",
    "        df.loc[i,'Sfreq5'] = freq[5]\n",
    "    except:\n",
    "        print(\"error where i =\", i)"
   ]
  },
  {
   "cell_type": "code",
   "execution_count": 6,
   "metadata": {},
   "outputs": [
    {
     "data": {
      "text/plain": [
       "\"when you enter in side you see movie Star came here big list picture's on the wall wow\\ndolly patron my favorite lady\\nNicolas cage,\\nJon voight ,\\nPerter folk,\\nLeonardo DiCaprio's,\\nSorry LONG LIST  I don't remembers all  \\nIf you like Indian food this is the place to enjoy real Indian food, that's by they had great Reviews all over the site's  \\n\\nFood is Excellent ( yes No greasy )\\nChicken Tikka Masala is top of the Game\\nLamb Rogan josh is very tender lamb Curry Dish\\nGarlic Naan and Chili Naan very fresh\\ndessert Gagar Halwa !!1\\n\\nIndian Movie playing on plasma TV ( Hindi Movie) Great !!!!\\n\\nStaff very helpful\\nGo check out you self ( make sure friday and Satuday make a reservations get nice booth round Table)\""
      ]
     },
     "execution_count": 6,
     "metadata": {},
     "output_type": "execute_result"
    }
   ],
   "source": [
    "df.review[9623]"
   ]
  },
  {
   "cell_type": "code",
   "execution_count": 7,
   "metadata": {},
   "outputs": [
    {
     "data": {
      "text/plain": [
       "'Today we did a day trip from San Francisco to Carmel and stopped at Monterrey for lunch. We are a family of 5. Kids are 7, 4 and 2. After checking out all the different options at the Fisherman\\'s Wharf... We decided to enter the \"Old Fisherman\\'s Grotto\", not because of the outside presentation of the food but because at the entrance I saw crayons and paper and thought it would be a relaxed, family friendly restaurant... They sat us at the middle of the restaurant, which I thought not a good idea when you have children, but again, I thought they must be a very family friendly restaurant... Service was snappy and hurried, but we said nothing about it... We ordered food, kids were just drawing, and at some point the 2 year old wanted to play with his glass of water, we didn\\'t let him do it and he cried loudly as he does... for about 1 minute... We did everything to settle him as soon as possible, we apologized to everyone around, and the hostess approached my husband asking him to stand up and take the child outside until he stopped crying... At this point the child was already quiet, so we were accomodating and said: \"We understand, we could happily move to a better location if that\\'s more convenient\", she said \"No, I\\'m just asking you to take the child outside until he stops crying\". We refused, because as parents we know once you get the child out of his seat, would be a battle to put him back in. Next thing we see is the check on our table with a very dishonest: \"take your time\". We did finish our meal with absolutely no rush... Food was not even decent... I\\'m VERY sorry we chose this restaurant for otherwise a beautiful trip...'"
      ]
     },
     "execution_count": 7,
     "metadata": {},
     "output_type": "execute_result"
    }
   ],
   "source": [
    "df.review[10001]"
   ]
  },
  {
   "cell_type": "code",
   "execution_count": 8,
   "metadata": {},
   "outputs": [
    {
     "data": {
      "text/plain": [
       "\"This place is probably the best kbbq place in NorCal right now. I came on the 2nd day of their opening with 2 of my boys and it was pretty crowded and I had to wait for 45 minutes. The place is decorated nicely and has kind of a lounge feel to it. The staff was very attentive and like to check up on our orders a lot. Not sure if it's the norm but the way the meat came out was different than what I've ever done. They give you a menu and you order what you want and you get a portion enough for 2-3 people to be happy with and you continue that throughout until you're satisfied.\\n\\n  The good stuff :)\\n\\nGen premium steak: You should probably start out with this every time, it's a slab of steak with a thin layer of fat and if you cook it rare, it'll stay tender and delicious\\n\\nBeef bulgogi : Standard bulgogi, very good marinade\\n\\nMiso pork belly : super good, seems like they've marinaded it for a long time and it was super flavorful\\n\\nBlack angus brisket: very thinly sliced and is not marinaded, if you like the sauce they give you this is the thing to go for\\n\\nHawaiian steak: you get a grilled pineapple with teriyaki steak also good\\n\\nSpicy tofu soup : perfect finisher to a big meal, I shared one with my friend cause we were both dying at the end. It was good soup what more can I say? \\n\\n   The alright stuff that I tried\\n\\nRed wine pork belly: it kept the wine flavor well but just didn't mesh well with me (I also think this marinaded over night)\\n\\nSpicy calamari: if you have a small group I would stay away from this cause the portions that came out were pretty big and the three of us thought it was just a little too big for our small group\\n\\nSpicy pork bulgogi : I expected this to be good but was disappointed ): i tasted just too much of the marinade and had a grainy taste in the mouth.\\n\\nLarge intestine : this was my first time having this and our server was very helpful with helping us cook it (he even cut it up for us and everything) but it's probably a very acquired taste cause it was super rich even though we cooked it to a crisp. If you like large intestine, I don't share your taste buds sorry\\n\\nIn the end it was a good experience our three person meal with two beers came out to be around 90 dollars which is a little pricey in my opinion but it was a premium experience so I have no regrets :) definitely would come back once a month maybe?\""
      ]
     },
     "execution_count": 8,
     "metadata": {},
     "output_type": "execute_result"
    }
   ],
   "source": [
    "df.review[15685]"
   ]
  },
  {
   "cell_type": "code",
   "execution_count": 9,
   "metadata": {},
   "outputs": [
    {
     "data": {
      "text/plain": [
       "'The Bear Rating: (out of 5)\\n1) Taste: 4\\n2) Presentation: 3\\n3) Ambiance: 3 1/2\\n4) Service: 1\\n5) Creativity: 3 1/2\\n\\nWhat we ate:\\nMongolian beef\\n\"Steak\" sandwich\\n\\nPros:\\n+A variety of food to select from (Thai, Chinese, Vietnamese, American, dessert, etc.)\\n+Atmosphere is very calming\\n\\nCons:\\n-It\\'s always really quiet in restaurant, every time we eat there we feel like we\\'re the only people talking\\n-Staff is so so, have an uncaring air to them'"
      ]
     },
     "execution_count": 9,
     "metadata": {},
     "output_type": "execute_result"
    }
   ],
   "source": [
    "df.review[16756]"
   ]
  },
  {
   "cell_type": "markdown",
   "metadata": {},
   "source": [
    "## Write output into a csv file"
   ]
  },
  {
   "cell_type": "code",
   "execution_count": 6,
   "metadata": {},
   "outputs": [],
   "source": [
    "df.to_csv(outputFile, encoding='utf-8', index=False )"
   ]
  },
  {
   "cell_type": "code",
   "execution_count": null,
   "metadata": {},
   "outputs": [],
   "source": []
  },
  {
   "cell_type": "code",
   "execution_count": null,
   "metadata": {},
   "outputs": [],
   "source": []
  }
 ],
 "metadata": {
  "kernelspec": {
   "display_name": "Python 3",
   "language": "python",
   "name": "python3"
  },
  "language_info": {
   "codemirror_mode": {
    "name": "ipython",
    "version": 3
   },
   "file_extension": ".py",
   "mimetype": "text/x-python",
   "name": "python",
   "nbconvert_exporter": "python",
   "pygments_lexer": "ipython3",
   "version": "3.6.3"
  }
 },
 "nbformat": 4,
 "nbformat_minor": 2
}
