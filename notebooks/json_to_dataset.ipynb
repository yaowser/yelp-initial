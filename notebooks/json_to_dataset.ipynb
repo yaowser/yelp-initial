{
 "cells": [
  {
   "cell_type": "code",
   "execution_count": 1,
   "metadata": {},
   "outputs": [],
   "source": [
    "import numpy as np\n",
    "import pandas as pd\n",
    "import os\n",
    "from nbloader import Notebook\n",
    "from tqdm import tqdm"
   ]
  },
  {
   "cell_type": "markdown",
   "metadata": {},
   "source": [
    "# List files"
   ]
  },
  {
   "cell_type": "code",
   "execution_count": 2,
   "metadata": {},
   "outputs": [
    {
     "data": {
      "text/plain": [
       "12773"
      ]
     },
     "execution_count": 2,
     "metadata": {},
     "output_type": "execute_result"
    }
   ],
   "source": [
    "json_files = os.listdir('../data/json/')\n",
    "len(json_files)"
   ]
  },
  {
   "cell_type": "markdown",
   "metadata": {},
   "source": [
    "# Loop and parse json files"
   ]
  },
  {
   "cell_type": "code",
   "execution_count": 3,
   "metadata": {},
   "outputs": [
    {
     "name": "stderr",
     "output_type": "stream",
     "text": [
      "100%|██████████| 12773/12773 [01:01<00:00, 206.65it/s]\n"
     ]
    }
   ],
   "source": [
    "json_parser = Notebook('json_parser.ipynb')\n",
    "\n",
    "reviews_dataset = []\n",
    "hotels_dataset = []\n",
    "\n",
    "for filename in tqdm(json_files):\n",
    "    json_parser.ns['filename'] = filename\n",
    "    json_parser.run_all(blacklist='setup')\n",
    "    \n",
    "    reviews_dataset += json_parser.ns['reviews']\n",
    "    hotels_dataset.append(json_parser.ns['hotel_info'])"
   ]
  },
  {
   "cell_type": "markdown",
   "metadata": {},
   "source": [
    "# Save"
   ]
  },
  {
   "cell_type": "code",
   "execution_count": 5,
   "metadata": {},
   "outputs": [],
   "source": [
    "pd.DataFrame(hotels_dataset).to_csv('../data/hotels_dataset.csv', index=False)\n",
    "pd.DataFrame(reviews_dataset).to_csv('../data/reviews_dataset.csv', index=False)"
   ]
  }
 ],
 "metadata": {
  "kernelspec": {
   "display_name": "Python 3",
   "language": "python",
   "name": "python3"
  }
 },
 "nbformat": 4,
 "nbformat_minor": 2
}
