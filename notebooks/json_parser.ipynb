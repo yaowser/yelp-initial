{
 "cells": [
  {
   "cell_type": "code",
   "execution_count": 46,
   "metadata": {
    "scrolled": true
   },
   "outputs": [],
   "source": [
    "%matplotlib inline\n",
    "import numpy as np\n",
    "import pandas as pd\n",
    "import warnings\n",
    "warnings.filterwarnings('ignore')\n",
    "\n",
    "import json\n",
    "from pprint import pprint\n",
    "from pandas.io.json import json_normalize\n",
    "\n",
    "import re\n",
    "\n",
    "def clean_address(raw_html):\n",
    "    cleanr = re.compile('<.*?>')\n",
    "    cleantext = re.sub(cleanr, '', raw_html)\n",
    "    cleantext = re.sub(\"\\s\\s+\", \"\",cleantext)\n",
    "    return cleantext.strip()\n",
    "\n",
    "def clean_price(price):\n",
    "    prices = re.findall(r'\\d+', price)\n",
    "    if not len(prices):\n",
    "        return {}\n",
    "    if len(prices) == 1:\n",
    "        return {'min_price': prices[0]}\n",
    "    \n",
    "    min_price = min(prices)\n",
    "    max_price = max(prices)\n",
    "    return {'min_price': min_price.strip(), 'max_price': max_price.strip()}\n",
    "\n",
    "def assert_flat(test_dict):\n",
    "    for key in test_dict:\n",
    "        assert type(test_dict[key]) == str"
   ]
  },
  {
   "cell_type": "code",
   "execution_count": 47,
   "metadata": {},
   "outputs": [],
   "source": [
    "# setup\n",
    "filename = '1225114.json'"
   ]
  },
  {
   "cell_type": "markdown",
   "metadata": {},
   "source": [
    "# Load file"
   ]
  },
  {
   "cell_type": "code",
   "execution_count": 48,
   "metadata": {
    "scrolled": true
   },
   "outputs": [
    {
     "data": {
      "text/plain": [
       "dict_keys(['Reviews', 'HotelInfo'])"
      ]
     },
     "execution_count": 48,
     "metadata": {},
     "output_type": "execute_result"
    }
   ],
   "source": [
    "with open('../data/json/' + filename) as data_file:    \n",
    "    data = json.load(data_file)\n",
    "data.keys()"
   ]
  },
  {
   "cell_type": "markdown",
   "metadata": {},
   "source": [
    "# HotelInfo"
   ]
  },
  {
   "cell_type": "code",
   "execution_count": 49,
   "metadata": {},
   "outputs": [
    {
     "data": {
      "text/plain": [
       "{'HotelID': '1225114',\n",
       " 'HotelURL': 'http://www.tripadvisor.com/ShowUserReviews-g60878-d1225114-r23287166-Fairmont_Olympic_Hotel-Seattle_Washington.html'}"
      ]
     },
     "execution_count": 49,
     "metadata": {},
     "output_type": "execute_result"
    }
   ],
   "source": [
    "hotel_info = data['HotelInfo']\n",
    "\n",
    "if 'Address' in hotel_info:\n",
    "    hotel_info['Address'] = clean_address(hotel_info['Address'])\n",
    "hotel_info.update(clean_price(hotel_info['Price']))\n",
    "del hotel_info['Price']\n",
    "assert_flat(hotel_info)\n",
    "hotel_info"
   ]
  },
  {
   "cell_type": "markdown",
   "metadata": {},
   "source": [
    "# Reviews"
   ]
  },
  {
   "cell_type": "code",
   "execution_count": 52,
   "metadata": {
    "scrolled": false
   },
   "outputs": [],
   "source": [
    "reviews = data['Reviews']\n",
    "\n",
    "for review in reviews:\n",
    "    review['HotelID'] = hotel_info['HotelID']\n",
    "    # remove the quotes:\n",
    "    if 'Title' in review:\n",
    "        review['Title'] = review['Title'].strip('“').strip('”')\n",
    "    if 'Ratings' in review:\n",
    "        for rating in review['Ratings']:\n",
    "            review['rating' + rating] = review['Ratings'][rating]\n",
    "        del review['Ratings']\n",
    "    assert_flat(review)"
   ]
  }
 ],
 "metadata": {
  "kernelspec": {
   "display_name": "Python 3",
   "language": "python",
   "name": "python3"
  },
  "language_info": {
   "codemirror_mode": {
    "name": "ipython",
    "version": 3
   },
   "file_extension": ".py",
   "mimetype": "text/x-python",
   "name": "python",
   "nbconvert_exporter": "python",
   "pygments_lexer": "ipython3",
   "version": "3.6.3"
  }
 },
 "nbformat": 4,
 "nbformat_minor": 2
}
